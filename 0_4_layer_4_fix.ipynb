{
  "cells": [
    {
      "cell_type": "code",
      "execution_count": 2,
      "metadata": {
        "colab": {
          "base_uri": "https://localhost:8080/"
        },
        "id": "mDqEdUKnBtgl",
        "outputId": "66207387-dfb5-463d-efb3-cecb29ebd6cf"
      },
      "outputs": [
        {
          "output_type": "stream",
          "name": "stdout",
          "text": [
            "2.7.0\n"
          ]
        }
      ],
      "source": [
        "#import library yang dibutuhkan\n",
        "import tensorflow as tf\n",
        "from tensorflow.keras.preprocessing.image import ImageDataGenerator\n",
        "from sklearn.model_selection import train_test_split\n",
        "import numpy as np \n",
        "import os\n",
        "import keras\n",
        "from keras import backend as K\n",
        "from keras.models import Sequential\n",
        "from keras import layers\n",
        "from keras.utils.np_utils import to_categorical\n",
        "from skimage.io import imsave, imread\n",
        "from skimage.transform import resize\n",
        "print(tf.__version__)"
      ]
    },
    {
      "cell_type": "code",
      "execution_count": 3,
      "metadata": {
        "id": "mn1V23X6ukud"
      },
      "outputs": [],
      "source": [
        "# ekstrasi file zip datasets\n",
        "import zipfile\n",
        "local_zip = 'dataset.zip'\n",
        "zip_ref = zipfile.ZipFile(local_zip,'r')\n",
        "zip_ref.extractall('/tmp/dataset')\n",
        "zip_ref.close()"
      ]
    },
    {
      "cell_type": "code",
      "execution_count": 46,
      "metadata": {
        "id": "6vgNySAUuk4v"
      },
      "outputs": [],
      "source": [
        "# membuat image generator (generate dataset untuk memperbanyak dataset)\n",
        "dir = '/tmp/dataset'\n",
        "train_datagen = ImageDataGenerator(\n",
        "    rescale = 1./225,\n",
        "    rotation_range = 10,\n",
        "    width_shift_range = 0.2,\n",
        "    height_shift_range = 0.2,\n",
        "    fill_mode = 'nearest',\n",
        "    validation_split=0.4) "
      ]
    },
    {
      "cell_type": "code",
      "execution_count": 47,
      "metadata": {
        "colab": {
          "base_uri": "https://localhost:8080/"
        },
        "id": "NlOu5jI1xT7m",
        "outputId": "22abd020-33f9-40ed-cafe-aac11d64b52b"
      },
      "outputs": [
        {
          "output_type": "stream",
          "name": "stdout",
          "text": [
            "Found 510 images belonging to 17 classes.\n",
            "Found 340 images belonging to 17 classes.\n"
          ]
        }
      ],
      "source": [
        "#generate data gambar ukuran 224 x 224\n",
        "\n",
        "train_generator = train_datagen.flow_from_directory(\n",
        "    dir,\n",
        "\n",
        "    target_size =(224,224),\n",
        "    batch_size =10,\n",
        "    class_mode = 'categorical',\n",
        "    shuffle = True,\n",
        "    subset='training',\n",
        "\n",
        ")\n",
        "\n",
        "validation_generator = train_datagen.flow_from_directory(\n",
        "    dir,\n",
        "    target_size = (224,224),\n",
        "    batch_size = 10,\n",
        "    class_mode = 'categorical',\n",
        "    shuffle = False,\n",
        "    subset='validation',\n",
        "\n",
        "\n",
        ")"
      ]
    },
    {
      "cell_type": "code",
      "execution_count": 48,
      "metadata": {
        "colab": {
          "base_uri": "https://localhost:8080/"
        },
        "id": "wpun5AFOYBIk",
        "outputId": "7456fe52-34de-4b43-aa3e-988a5d68614b"
      },
      "outputs": [
        {
          "output_type": "stream",
          "name": "stdout",
          "text": [
            "{'Dioda': 0, 'Dioda Foto': 1, 'Dioda LED': 2, 'Dioda Schottky': 3, 'Dioda Tunnel': 4, 'Dioda Varactor': 5, 'Dioda Zener': 6, 'Induktor Tetap': 7, 'Induktor Variabel': 8, 'Kapasitor Tetap': 9, 'Kapasitor Trimmer': 10, 'Kapasitor Varco': 11, 'Resistor LDR': 12, 'Resistor Potensiometer': 13, 'Resistor Rheostat': 14, 'Resistor Tetap': 15, 'Resistor Thermistor': 16}\n"
          ]
        }
      ],
      "source": [
        "#menambahkan penghitung ke setiap nama labels dan  mengurutkan list nama dari folder\n",
        "print (train_generator.class_indices)\n",
        "labels_txt = '\\n'.join(sorted(train_generator.class_indices.keys()))\n",
        "with open('labels.txt', 'w') as f:\n",
        "  f.write(labels_txt)"
      ]
    },
    {
      "cell_type": "code",
      "execution_count": 49,
      "metadata": {
        "colab": {
          "base_uri": "https://localhost:8080/"
        },
        "id": "5wH21ntWZcUL",
        "outputId": "56e0a865-65ac-40c6-f068-e1363920f961"
      },
      "outputs": [
        {
          "output_type": "stream",
          "name": "stdout",
          "text": [
            "Dioda\n",
            "Dioda Foto\n",
            "Dioda LED\n",
            "Dioda Schottky\n",
            "Dioda Tunnel\n",
            "Dioda Varactor\n",
            "Dioda Zener\n",
            "Induktor Tetap\n",
            "Induktor Variabel\n",
            "Kapasitor Tetap\n",
            "Kapasitor Trimmer\n",
            "Kapasitor Varco\n",
            "Resistor LDR\n",
            "Resistor Potensiometer\n",
            "Resistor Rheostat\n",
            "Resistor Tetap\n",
            "Resistor Thermistor"
          ]
        }
      ],
      "source": [
        "#save label sebagai txt\n",
        "!cat labels.txt"
      ]
    },
    {
      "cell_type": "code",
      "execution_count": 53,
      "metadata": {
        "colab": {
          "base_uri": "https://localhost:8080/"
        },
        "id": "55zEXM28xV-M",
        "outputId": "7abb7896-9b11-46d6-cc00-ad6aa327efdc"
      },
      "outputs": [
        {
          "output_type": "stream",
          "name": "stdout",
          "text": [
            "Model: \"sequential_7\"\n",
            "_________________________________________________________________\n",
            " Layer (type)                Output Shape              Param #   \n",
            "=================================================================\n",
            " conv2d_23 (Conv2D)          (None, 222, 222, 64)      1792      \n",
            "                                                                 \n",
            " max_pooling2d_23 (MaxPoolin  (None, 111, 111, 64)     0         \n",
            " g2D)                                                            \n",
            "                                                                 \n",
            " conv2d_24 (Conv2D)          (None, 109, 109, 64)      36928     \n",
            "                                                                 \n",
            " max_pooling2d_24 (MaxPoolin  (None, 54, 54, 64)       0         \n",
            " g2D)                                                            \n",
            "                                                                 \n",
            " conv2d_25 (Conv2D)          (None, 52, 52, 64)        36928     \n",
            "                                                                 \n",
            " max_pooling2d_25 (MaxPoolin  (None, 26, 26, 64)       0         \n",
            " g2D)                                                            \n",
            "                                                                 \n",
            " conv2d_26 (Conv2D)          (None, 24, 24, 64)        36928     \n",
            "                                                                 \n",
            " max_pooling2d_26 (MaxPoolin  (None, 12, 12, 64)       0         \n",
            " g2D)                                                            \n",
            "                                                                 \n",
            " flatten_7 (Flatten)         (None, 9216)              0         \n",
            "                                                                 \n",
            " dense_14 (Dense)            (None, 128)               1179776   \n",
            "                                                                 \n",
            " dense_15 (Dense)            (None, 17)                2193      \n",
            "                                                                 \n",
            "=================================================================\n",
            "Total params: 1,294,545\n",
            "Trainable params: 1,294,545\n",
            "Non-trainable params: 0\n",
            "_________________________________________________________________\n"
          ]
        }
      ],
      "source": [
        "#Arsitektur CNN\n",
        "model = tf.keras.models.Sequential([\n",
        "    tf.keras.layers.Conv2D(64, (3,3), activation='relu', input_shape=(224, 224, 3)),\n",
        "    tf.keras.layers.MaxPooling2D((2,2), padding = 'valid'),\n",
        "    tf.keras.layers.Conv2D(64, (3,3), activation='relu'),\n",
        "    tf.keras.layers.MaxPooling2D((2,2), padding = 'valid'),\n",
        "    tf.keras.layers.Conv2D(64, (3,3), activation='relu'),\n",
        "    tf.keras.layers.MaxPooling2D((2,2), padding = 'valid'),\n",
        "    tf.keras.layers.Conv2D(64, (3,3), activation='relu'),\n",
        "    tf.keras.layers.MaxPooling2D((2,2), padding = 'valid'),\n",
        "    tf.keras.layers.Flatten(),\n",
        "    tf.keras.layers.Dense(128, activation ='relu'),\n",
        "    tf.keras.layers.Dense(17, activation='softmax')\n",
        "])\n",
        "model.summary()"
      ]
    },
    {
      "cell_type": "code",
      "execution_count": 54,
      "metadata": {
        "id": "KhsLJ-BZxank"
      },
      "outputs": [],
      "source": [
        "model.compile(loss = 'categorical_crossentropy',\n",
        "              optimizer = tf.optimizers.Adam(),\n",
        "              metrics=['accuracy'])"
      ]
    },
    {
      "cell_type": "code",
      "execution_count": 55,
      "metadata": {
        "colab": {
          "base_uri": "https://localhost:8080/"
        },
        "id": "iBxPAVIpxap0",
        "outputId": "d6e90021-838e-44ff-d55f-46dd3d6e1465"
      },
      "outputs": [
        {
          "metadata": {
            "tags": null
          },
          "name": "stdout",
          "output_type": "stream",
          "text": [
            "Epoch 1/100\n",
            "51/51 - 16s - loss: 2.8546 - accuracy: 0.0471 - val_loss: 2.8332 - val_accuracy: 0.0588 - 16s/epoch - 308ms/step\n",
            "Epoch 2/100\n",
            "51/51 - 15s - loss: 2.8355 - accuracy: 0.0431 - val_loss: 2.8332 - val_accuracy: 0.0588 - 15s/epoch - 287ms/step\n",
            "Epoch 3/100\n",
            "51/51 - 15s - loss: 2.8338 - accuracy: 0.0314 - val_loss: 2.8331 - val_accuracy: 0.0676 - 15s/epoch - 286ms/step\n",
            "Epoch 4/100\n",
            "51/51 - 15s - loss: 2.8336 - accuracy: 0.0373 - val_loss: 2.8298 - val_accuracy: 0.0588 - 15s/epoch - 285ms/step\n",
            "Epoch 5/100\n",
            "51/51 - 16s - loss: 2.8178 - accuracy: 0.0569 - val_loss: 2.8094 - val_accuracy: 0.0706 - 16s/epoch - 308ms/step\n",
            "Epoch 6/100\n",
            "51/51 - 15s - loss: 2.8009 - accuracy: 0.0765 - val_loss: 2.8306 - val_accuracy: 0.0971 - 15s/epoch - 285ms/step\n",
            "Epoch 7/100\n",
            "51/51 - 15s - loss: 2.7480 - accuracy: 0.0941 - val_loss: 2.7501 - val_accuracy: 0.1088 - 15s/epoch - 285ms/step\n",
            "Epoch 8/100\n",
            "51/51 - 15s - loss: 2.6204 - accuracy: 0.1588 - val_loss: 2.4810 - val_accuracy: 0.2059 - 15s/epoch - 286ms/step\n",
            "Epoch 9/100\n",
            "51/51 - 15s - loss: 2.3639 - accuracy: 0.2235 - val_loss: 2.2702 - val_accuracy: 0.2206 - 15s/epoch - 286ms/step\n",
            "Epoch 10/100\n",
            "51/51 - 15s - loss: 1.9855 - accuracy: 0.3137 - val_loss: 2.0850 - val_accuracy: 0.3000 - 15s/epoch - 284ms/step\n",
            "Epoch 11/100\n",
            "51/51 - 15s - loss: 1.7299 - accuracy: 0.4314 - val_loss: 1.7115 - val_accuracy: 0.4000 - 15s/epoch - 286ms/step\n",
            "Epoch 12/100\n",
            "51/51 - 15s - loss: 1.4301 - accuracy: 0.4824 - val_loss: 1.5695 - val_accuracy: 0.4118 - 15s/epoch - 288ms/step\n",
            "Epoch 13/100\n",
            "51/51 - 14s - loss: 1.2388 - accuracy: 0.5373 - val_loss: 1.3470 - val_accuracy: 0.5441 - 14s/epoch - 283ms/step\n",
            "Epoch 14/100\n",
            "51/51 - 15s - loss: 1.1188 - accuracy: 0.5824 - val_loss: 1.3328 - val_accuracy: 0.5471 - 15s/epoch - 291ms/step\n",
            "Epoch 15/100\n",
            "51/51 - 15s - loss: 1.0543 - accuracy: 0.5902 - val_loss: 1.2409 - val_accuracy: 0.5412 - 15s/epoch - 285ms/step\n",
            "Epoch 16/100\n",
            "51/51 - 19s - loss: 0.9951 - accuracy: 0.6196 - val_loss: 1.1167 - val_accuracy: 0.5471 - 19s/epoch - 380ms/step\n",
            "Epoch 17/100\n",
            "51/51 - 15s - loss: 0.8755 - accuracy: 0.6765 - val_loss: 1.0206 - val_accuracy: 0.6324 - 15s/epoch - 291ms/step\n",
            "Epoch 18/100\n",
            "51/51 - 15s - loss: 0.7418 - accuracy: 0.7137 - val_loss: 1.0032 - val_accuracy: 0.6235 - 15s/epoch - 296ms/step\n",
            "Epoch 19/100\n",
            "51/51 - 15s - loss: 0.6983 - accuracy: 0.7333 - val_loss: 1.1150 - val_accuracy: 0.5941 - 15s/epoch - 296ms/step\n",
            "Epoch 20/100\n",
            "51/51 - 15s - loss: 0.6423 - accuracy: 0.7412 - val_loss: 0.9542 - val_accuracy: 0.6647 - 15s/epoch - 288ms/step\n",
            "Epoch 21/100\n",
            "51/51 - 15s - loss: 0.6173 - accuracy: 0.7725 - val_loss: 0.8847 - val_accuracy: 0.6676 - 15s/epoch - 288ms/step\n",
            "Epoch 22/100\n",
            "51/51 - 15s - loss: 0.6134 - accuracy: 0.7686 - val_loss: 0.7831 - val_accuracy: 0.7147 - 15s/epoch - 292ms/step\n",
            "Epoch 23/100\n",
            "51/51 - 15s - loss: 0.5499 - accuracy: 0.8059 - val_loss: 0.6587 - val_accuracy: 0.7500 - 15s/epoch - 286ms/step\n",
            "Epoch 24/100\n",
            "51/51 - 15s - loss: 0.5222 - accuracy: 0.8196 - val_loss: 0.7071 - val_accuracy: 0.7265 - 15s/epoch - 289ms/step\n",
            "Epoch 25/100\n",
            "51/51 - 15s - loss: 0.4711 - accuracy: 0.8314 - val_loss: 0.8621 - val_accuracy: 0.7118 - 15s/epoch - 287ms/step\n",
            "Epoch 26/100\n",
            "51/51 - 15s - loss: 0.3694 - accuracy: 0.8706 - val_loss: 0.6552 - val_accuracy: 0.7824 - 15s/epoch - 288ms/step\n",
            "Epoch 27/100\n",
            "51/51 - 14s - loss: 0.4025 - accuracy: 0.8529 - val_loss: 0.5664 - val_accuracy: 0.8029 - 14s/epoch - 280ms/step\n",
            "Epoch 28/100\n",
            "51/51 - 14s - loss: 0.3139 - accuracy: 0.8804 - val_loss: 0.6828 - val_accuracy: 0.7794 - 14s/epoch - 278ms/step\n",
            "Epoch 29/100\n",
            "51/51 - 14s - loss: 0.3599 - accuracy: 0.8588 - val_loss: 0.5582 - val_accuracy: 0.8059 - 14s/epoch - 281ms/step\n",
            "Epoch 30/100\n",
            "51/51 - 14s - loss: 0.2623 - accuracy: 0.8961 - val_loss: 0.5585 - val_accuracy: 0.7941 - 14s/epoch - 281ms/step\n",
            "Epoch 31/100\n",
            "51/51 - 14s - loss: 0.2315 - accuracy: 0.9039 - val_loss: 0.5072 - val_accuracy: 0.8147 - 14s/epoch - 278ms/step\n",
            "Epoch 32/100\n",
            "51/51 - 14s - loss: 0.3011 - accuracy: 0.9020 - val_loss: 0.5737 - val_accuracy: 0.8088 - 14s/epoch - 278ms/step\n",
            "Epoch 33/100\n",
            "51/51 - 14s - loss: 0.2713 - accuracy: 0.9039 - val_loss: 0.7737 - val_accuracy: 0.7559 - 14s/epoch - 278ms/step\n",
            "Epoch 34/100\n",
            "51/51 - 14s - loss: 0.2359 - accuracy: 0.9196 - val_loss: 0.7201 - val_accuracy: 0.7824 - 14s/epoch - 278ms/step\n",
            "Epoch 35/100\n",
            "51/51 - 14s - loss: 0.2509 - accuracy: 0.9255 - val_loss: 0.5437 - val_accuracy: 0.8324 - 14s/epoch - 278ms/step\n",
            "Epoch 36/100\n",
            "51/51 - 14s - loss: 0.1779 - accuracy: 0.9412 - val_loss: 0.4677 - val_accuracy: 0.8265 - 14s/epoch - 280ms/step\n",
            "Epoch 37/100\n",
            "51/51 - 14s - loss: 0.2053 - accuracy: 0.9294 - val_loss: 0.5047 - val_accuracy: 0.8353 - 14s/epoch - 276ms/step\n",
            "Epoch 38/100\n",
            "51/51 - 14s - loss: 0.1778 - accuracy: 0.9333 - val_loss: 0.4763 - val_accuracy: 0.8353 - 14s/epoch - 280ms/step\n",
            "Epoch 39/100\n",
            "51/51 - 14s - loss: 0.2606 - accuracy: 0.9000 - val_loss: 0.6769 - val_accuracy: 0.8000 - 14s/epoch - 279ms/step\n",
            "Epoch 40/100\n",
            "51/51 - 14s - loss: 0.2580 - accuracy: 0.9078 - val_loss: 0.5330 - val_accuracy: 0.8088 - 14s/epoch - 282ms/step\n",
            "Epoch 41/100\n",
            "51/51 - 14s - loss: 0.1787 - accuracy: 0.9353 - val_loss: 0.4387 - val_accuracy: 0.8676 - 14s/epoch - 280ms/step\n",
            "Epoch 42/100\n",
            "51/51 - 14s - loss: 0.1262 - accuracy: 0.9647 - val_loss: 0.4453 - val_accuracy: 0.8500 - 14s/epoch - 277ms/step\n",
            "Epoch 43/100\n",
            "51/51 - 14s - loss: 0.1431 - accuracy: 0.9529 - val_loss: 0.6402 - val_accuracy: 0.8294 - 14s/epoch - 280ms/step\n",
            "Epoch 44/100\n",
            "51/51 - 14s - loss: 0.2218 - accuracy: 0.9333 - val_loss: 0.8253 - val_accuracy: 0.7853 - 14s/epoch - 277ms/step\n",
            "Epoch 45/100\n",
            "51/51 - 14s - loss: 0.2156 - accuracy: 0.9333 - val_loss: 0.3762 - val_accuracy: 0.8706 - 14s/epoch - 281ms/step\n",
            "Epoch 46/100\n",
            "51/51 - 19s - loss: 0.1761 - accuracy: 0.9431 - val_loss: 0.5704 - val_accuracy: 0.8206 - 19s/epoch - 371ms/step\n",
            "Epoch 47/100\n",
            "51/51 - 14s - loss: 0.1749 - accuracy: 0.9431 - val_loss: 0.4353 - val_accuracy: 0.8853 - 14s/epoch - 281ms/step\n",
            "Epoch 48/100\n",
            "51/51 - 14s - loss: 0.1729 - accuracy: 0.9431 - val_loss: 0.3807 - val_accuracy: 0.8853 - 14s/epoch - 278ms/step\n",
            "Epoch 49/100\n",
            "51/51 - 14s - loss: 0.1962 - accuracy: 0.9392 - val_loss: 0.4542 - val_accuracy: 0.8588 - 14s/epoch - 279ms/step\n",
            "Epoch 50/100\n",
            "51/51 - 14s - loss: 0.1274 - accuracy: 0.9627 - val_loss: 0.3977 - val_accuracy: 0.8735 - 14s/epoch - 279ms/step\n",
            "Epoch 51/100\n",
            "51/51 - 14s - loss: 0.0709 - accuracy: 0.9784 - val_loss: 0.3218 - val_accuracy: 0.8941 - 14s/epoch - 279ms/step\n",
            "Epoch 52/100\n",
            "51/51 - 14s - loss: 0.0968 - accuracy: 0.9686 - val_loss: 0.6505 - val_accuracy: 0.8441 - 14s/epoch - 278ms/step\n",
            "Epoch 53/100\n",
            "51/51 - 14s - loss: 0.1550 - accuracy: 0.9431 - val_loss: 0.3850 - val_accuracy: 0.9059 - 14s/epoch - 283ms/step\n",
            "Epoch 54/100\n",
            "51/51 - 14s - loss: 0.0657 - accuracy: 0.9843 - val_loss: 0.4223 - val_accuracy: 0.8588 - 14s/epoch - 280ms/step\n",
            "Epoch 55/100\n",
            "51/51 - 14s - loss: 0.1023 - accuracy: 0.9745 - val_loss: 0.3852 - val_accuracy: 0.8676 - 14s/epoch - 278ms/step\n",
            "Epoch 56/100\n",
            "51/51 - 14s - loss: 0.0731 - accuracy: 0.9706 - val_loss: 0.4325 - val_accuracy: 0.8735 - 14s/epoch - 278ms/step\n",
            "Epoch 57/100\n",
            "51/51 - 14s - loss: 0.1138 - accuracy: 0.9725 - val_loss: 0.3776 - val_accuracy: 0.8765 - 14s/epoch - 279ms/step\n",
            "Epoch 58/100\n",
            "51/51 - 14s - loss: 0.0930 - accuracy: 0.9765 - val_loss: 0.2957 - val_accuracy: 0.9029 - 14s/epoch - 279ms/step\n",
            "Epoch 59/100\n",
            "51/51 - 14s - loss: 0.1509 - accuracy: 0.9490 - val_loss: 0.4541 - val_accuracy: 0.8824 - 14s/epoch - 280ms/step\n",
            "Epoch 60/100\n",
            "51/51 - 14s - loss: 0.1452 - accuracy: 0.9490 - val_loss: 0.3329 - val_accuracy: 0.8941 - 14s/epoch - 283ms/step\n",
            "Epoch 61/100\n",
            "51/51 - 15s - loss: 0.0434 - accuracy: 0.9863 - val_loss: 0.3481 - val_accuracy: 0.9206 - 15s/epoch - 286ms/step\n",
            "Epoch 62/100\n",
            "51/51 - 14s - loss: 0.0647 - accuracy: 0.9843 - val_loss: 0.3504 - val_accuracy: 0.9000 - 14s/epoch - 283ms/step\n",
            "Epoch 63/100\n",
            "51/51 - 15s - loss: 0.0278 - accuracy: 0.9902 - val_loss: 0.3180 - val_accuracy: 0.9000 - 15s/epoch - 290ms/step\n",
            "Epoch 64/100\n",
            "51/51 - 14s - loss: 0.0713 - accuracy: 0.9765 - val_loss: 0.4280 - val_accuracy: 0.8765 - 14s/epoch - 282ms/step\n",
            "Epoch 65/100\n",
            "51/51 - 14s - loss: 0.0582 - accuracy: 0.9843 - val_loss: 0.2933 - val_accuracy: 0.9000 - 14s/epoch - 280ms/step\n",
            "Epoch 66/100\n",
            "51/51 - 14s - loss: 0.0973 - accuracy: 0.9647 - val_loss: 0.4618 - val_accuracy: 0.8676 - 14s/epoch - 279ms/step\n",
            "Epoch 67/100\n",
            "51/51 - 14s - loss: 0.0978 - accuracy: 0.9706 - val_loss: 0.5401 - val_accuracy: 0.8647 - 14s/epoch - 282ms/step\n",
            "Epoch 68/100\n",
            "51/51 - 14s - loss: 0.0373 - accuracy: 0.9882 - val_loss: 0.3899 - val_accuracy: 0.8853 - 14s/epoch - 277ms/step\n",
            "Epoch 69/100\n",
            "51/51 - 19s - loss: 0.0545 - accuracy: 0.9784 - val_loss: 0.3204 - val_accuracy: 0.9029 - 19s/epoch - 365ms/step\n",
            "Epoch 70/100\n",
            "51/51 - 14s - loss: 0.1170 - accuracy: 0.9647 - val_loss: 0.4967 - val_accuracy: 0.8853 - 14s/epoch - 278ms/step\n",
            "Epoch 71/100\n",
            "51/51 - 14s - loss: 0.1248 - accuracy: 0.9608 - val_loss: 0.3506 - val_accuracy: 0.8971 - 14s/epoch - 280ms/step\n",
            "Epoch 72/100\n",
            "51/51 - 14s - loss: 0.0964 - accuracy: 0.9804 - val_loss: 0.4405 - val_accuracy: 0.8824 - 14s/epoch - 279ms/step\n",
            "Epoch 73/100\n",
            "51/51 - 14s - loss: 0.0709 - accuracy: 0.9824 - val_loss: 0.3042 - val_accuracy: 0.8912 - 14s/epoch - 283ms/step\n",
            "Epoch 74/100\n",
            "51/51 - 14s - loss: 0.0572 - accuracy: 0.9843 - val_loss: 0.2557 - val_accuracy: 0.9235 - 14s/epoch - 283ms/step\n",
            "Epoch 75/100\n",
            "51/51 - 14s - loss: 0.0607 - accuracy: 0.9804 - val_loss: 0.3789 - val_accuracy: 0.8794 - 14s/epoch - 282ms/step\n",
            "Epoch 76/100\n",
            "51/51 - 14s - loss: 0.0530 - accuracy: 0.9882 - val_loss: 0.1749 - val_accuracy: 0.9441 - 14s/epoch - 278ms/step\n",
            "Epoch 77/100\n",
            "51/51 - 14s - loss: 0.0791 - accuracy: 0.9745 - val_loss: 0.3227 - val_accuracy: 0.8912 - 14s/epoch - 278ms/step\n",
            "Epoch 78/100\n",
            "51/51 - 14s - loss: 0.1142 - accuracy: 0.9686 - val_loss: 0.3015 - val_accuracy: 0.8912 - 14s/epoch - 284ms/step\n",
            "Epoch 79/100\n",
            "51/51 - 14s - loss: 0.0645 - accuracy: 0.9784 - val_loss: 0.4193 - val_accuracy: 0.8882 - 14s/epoch - 278ms/step\n",
            "Epoch 80/100\n",
            "51/51 - 14s - loss: 0.0509 - accuracy: 0.9824 - val_loss: 0.3156 - val_accuracy: 0.8882 - 14s/epoch - 282ms/step\n",
            "Epoch 81/100\n",
            "51/51 - 14s - loss: 0.0709 - accuracy: 0.9745 - val_loss: 0.3663 - val_accuracy: 0.8882 - 14s/epoch - 282ms/step\n",
            "Epoch 82/100\n",
            "51/51 - 14s - loss: 0.0506 - accuracy: 0.9804 - val_loss: 0.3676 - val_accuracy: 0.8853 - 14s/epoch - 281ms/step\n",
            "Epoch 83/100\n",
            "51/51 - 14s - loss: 0.0675 - accuracy: 0.9843 - val_loss: 0.3397 - val_accuracy: 0.8912 - 14s/epoch - 282ms/step\n",
            "Epoch 84/100\n",
            "51/51 - 14s - loss: 0.0593 - accuracy: 0.9824 - val_loss: 0.3787 - val_accuracy: 0.8882 - 14s/epoch - 279ms/step\n",
            "Epoch 85/100\n",
            "51/51 - 14s - loss: 0.0493 - accuracy: 0.9784 - val_loss: 0.2464 - val_accuracy: 0.9147 - 14s/epoch - 281ms/step\n",
            "Epoch 86/100\n",
            "51/51 - 15s - loss: 0.0722 - accuracy: 0.9706 - val_loss: 0.6023 - val_accuracy: 0.8235 - 15s/epoch - 285ms/step\n",
            "Epoch 87/100\n",
            "51/51 - 14s - loss: 0.0866 - accuracy: 0.9706 - val_loss: 0.5271 - val_accuracy: 0.8588 - 14s/epoch - 283ms/step\n",
            "Epoch 88/100\n",
            "51/51 - 14s - loss: 0.0469 - accuracy: 0.9922 - val_loss: 0.3679 - val_accuracy: 0.9029 - 14s/epoch - 282ms/step\n",
            "Epoch 89/100\n",
            "51/51 - 14s - loss: 0.0625 - accuracy: 0.9784 - val_loss: 0.2799 - val_accuracy: 0.9206 - 14s/epoch - 282ms/step\n",
            "Epoch 90/100\n",
            "51/51 - 15s - loss: 0.1220 - accuracy: 0.9608 - val_loss: 0.3237 - val_accuracy: 0.9118 - 15s/epoch - 287ms/step\n",
            "Epoch 91/100\n",
            "51/51 - 14s - loss: 0.0477 - accuracy: 0.9863 - val_loss: 0.2860 - val_accuracy: 0.9029 - 14s/epoch - 281ms/step\n",
            "Epoch 92/100\n",
            "51/51 - 15s - loss: 0.0850 - accuracy: 0.9804 - val_loss: 0.5684 - val_accuracy: 0.8382 - 15s/epoch - 286ms/step\n",
            "Epoch 93/100\n",
            "51/51 - 14s - loss: 0.0554 - accuracy: 0.9804 - val_loss: 0.3569 - val_accuracy: 0.9029 - 14s/epoch - 282ms/step\n",
            "Epoch 94/100\n",
            "51/51 - 14s - loss: 0.1439 - accuracy: 0.9549 - val_loss: 0.5772 - val_accuracy: 0.8706 - 14s/epoch - 280ms/step\n",
            "Epoch 95/100\n",
            "51/51 - 14s - loss: 0.1017 - accuracy: 0.9588 - val_loss: 0.1941 - val_accuracy: 0.9382 - 14s/epoch - 275ms/step\n",
            "Epoch 96/100\n",
            "51/51 - 14s - loss: 0.0474 - accuracy: 0.9882 - val_loss: 0.1926 - val_accuracy: 0.9324 - 14s/epoch - 278ms/step\n",
            "Epoch 97/100\n",
            "51/51 - 14s - loss: 0.0210 - accuracy: 0.9980 - val_loss: 0.1936 - val_accuracy: 0.9382 - 14s/epoch - 280ms/step\n",
            "Epoch 98/100\n",
            "51/51 - 14s - loss: 0.0778 - accuracy: 0.9804 - val_loss: 0.3651 - val_accuracy: 0.9000 - 14s/epoch - 277ms/step\n",
            "Epoch 99/100\n",
            "51/51 - 14s - loss: 0.0445 - accuracy: 0.9863 - val_loss: 0.2353 - val_accuracy: 0.9118 - 14s/epoch - 277ms/step\n",
            "Epoch 100/100\n",
            "51/51 - 14s - loss: 0.0294 - accuracy: 0.9902 - val_loss: 0.1929 - val_accuracy: 0.9324 - 14s/epoch - 276ms/step\n"
          ]
        }
      ],
      "source": [
        "history = model.fit(\n",
        "    train_generator,\n",
        "    epochs = 100,\n",
        "    validation_data = validation_generator,\n",
        "    verbose =2\n",
        ")"
      ]
    },
    {
      "cell_type": "code",
      "execution_count": null,
      "metadata": {
        "colab": {
          "base_uri": "https://localhost:8080/",
          "height": 513
        },
        "id": "ZyJSlW3JcgWX",
        "outputId": "6562cd90-d04f-4d1b-e069-27647141f8d1"
      },
      "outputs": [
        {
          "output_type": "display_data",
          "data": {
            "image/png": "[encoded data removed]",
            "text/plain": [
              "<Figure size 432x288 with 1 Axes>"
            ]
          },
          "metadata": {
            "needs_background": "light"
          }
        },
        {
          "output_type": "display_data",
          "data": {
            "image/png": "[encoded data removed]",
            "text/plain": [
              "<Figure size 432x288 with 1 Axes>"
            ]
          },
          "metadata": {
            "needs_background": "light"
          }
        }
      ],
      "source": [
        "# visualisasi data akurasi dan loss\n",
        "import numpy as np \n",
        "from google.colab import files\n",
        "from keras.preprocessing import image\n",
        "import matplotlib.pyplot as plt\n",
        "import matplotlib.image as mpimg\n",
        "import matplotlib.pyplot as plt\n",
        "import matplotlib.image as mpimg\n",
        "%matplotlib inline\n",
        " \n",
        "plt.plot(history.history[\"accuracy\"],label=\"Akurasi Pelatihan\")\n",
        "plt.plot(history.history[\"val_accuracy\"],label=\"Validasi Akurasi\")\n",
        "plt.legend()\n",
        "plt.show()\n",
        "\n",
        "plt.plot(history.history[\"loss\"],label=\"Kesalahan Pelatihan\")\n",
        "plt.plot(history.history[\"val_loss\"],label=\"Validasi Kesalahan\")\n",
        "plt.legend()\n",
        "plt.show()"
      ]
    },
    {
      "cell_type": "code",
      "execution_count": null,
      "metadata": {
        "colab": {
          "base_uri": "https://localhost:8080/"
        },
        "id": "gO79CfHVV5h6",
        "outputId": "fc20c81b-fc3b-4385-ea66-3df39c4f5e7c"
      },
      "outputs": [
        {
          "output_type": "stream",
          "name": "stdout",
          "text": [
            "INFO:tensorflow:Assets written to: save/model/assets\n"
          ]
        }
      ],
      "source": [
        "saved_model_dir = 'save/model'\n",
        "tf.saved_model.save(model, saved_model_dir)"
      ]
    },
    {
      "cell_type": "code",
      "execution_count": null,
      "metadata": {
        "id": "lKlepcRhVjTi"
      },
      "outputs": [],
      "source": [
        "run_model = tf.function(lambda x : model(x))\n",
        "\n",
        "# Save the concrete function.\n",
        "concrete_func = run_model.get_concrete_function(\n",
        "    tf.TensorSpec(model.inputs[0].shape, model.inputs[0].dtype)\n",
        ")"
      ]
    },
    {
      "cell_type": "code",
      "execution_count": null,
      "metadata": {
        "colab": {
          "base_uri": "https://localhost:8080/"
        },
        "id": "y6m2pZC9VsYW",
        "outputId": "815e149e-7626-41a4-bace-49b00c1435e5"
      },
      "outputs": [
        {
          "output_type": "stream",
          "name": "stderr",
          "text": [
            "WARNING:absl:Please consider providing the trackable_obj argument in the from_concrete_functions. Providing without the trackable_obj argument is deprecated and it will use the deprecated conversion path.\n",
            "WARNING:absl:Buffer deduplication procedure will be skipped when flatbuffer library is not properly loaded\n",
            "WARNING:absl:Please consider providing the trackable_obj argument in the from_concrete_functions. Providing without the trackable_obj argument is deprecated and it will use the deprecated conversion path.\n",
            "WARNING:absl:Optimization option OPTIMIZE_FOR_SIZE is deprecated, please use optimizations=[Optimize.DEFAULT] instead.\n",
            "WARNING:absl:Optimization option OPTIMIZE_FOR_SIZE is deprecated, please use optimizations=[Optimize.DEFAULT] instead.\n",
            "WARNING:absl:Optimization option OPTIMIZE_FOR_SIZE is deprecated, please use optimizations=[Optimize.DEFAULT] instead.\n",
            "WARNING:absl:Buffer deduplication procedure will be skipped when flatbuffer library is not properly loaded\n"
          ]
        },
        {
          "output_type": "execute_result",
          "data": {
            "text/plain": [
              "1306000"
            ]
          },
          "metadata": {},
          "execution_count": 18
        }
      ],
      "source": [
        "# Convert the model\n",
        "converter = tf.lite.TFLiteConverter.from_concrete_functions([concrete_func])\n",
        "converted_tflite_model = converter.convert()\n",
        "open('model_unquant2.tflite', \"wb\").write(converted_tflite_model)\n",
        "# Convert the model to quantized version with post-training quantization\n",
        "converter = tf.lite.TFLiteConverter.from_concrete_functions([concrete_func])\n",
        "converter.optimizations = [tf.lite.Optimize.OPTIMIZE_FOR_SIZE]\n",
        "tflite_quant_model = converter.convert()\n",
        "open('model2.tflite', \"wb\").write(tflite_quant_model)"
      ]
    },
    {
      "cell_type": "code",
      "execution_count": null,
      "metadata": {
        "colab": {
          "base_uri": "https://localhost:8080/"
        },
        "id": "OGx9CNNg27D9",
        "outputId": "8b4f3eab-f440-42db-d29a-57f714d8c885"
      },
      "outputs": [
        {
          "name": "stdout",
          "output_type": "stream",
          "text": [
            "<keras.engine.sequential.Sequential object at 0x7f6a5b7474d0>\n"
          ]
        }
      ],
      "source": [
        "from keras.models import load_model\n",
        "model = load_model('model.h5')\n",
        "print(model)"
      ]
    },
    {
      "cell_type": "code",
      "execution_count": null,
      "metadata": {
        "colab": {
          "base_uri": "https://localhost:8080/"
        },
        "id": "Q-GTPQFN2iTF",
        "outputId": "f1c82f65-243f-415a-9fb6-7615c0043530"
      },
      "outputs": [
        {
          "name": "stdout",
          "output_type": "stream",
          "text": [
            "3/3 [==============================] - 10s 301ms/step - loss: 0.1462 - accuracy: 0.9398\n",
            "[0.14624278247356415, 0.9397590160369873]\n"
          ]
        }
      ],
      "source": [
        "print(model.evaluate(x= X_test3, y = y_test3))"
      ]
    },
    {
      "cell_type": "code",
      "execution_count": null,
      "metadata": {
        "id": "BDFa_qjc2iVj"
      },
      "outputs": [],
      "source": [
        ""
      ]
    },
    {
      "cell_type": "code",
      "execution_count": null,
      "metadata": {
        "id": "np3cigG22ibD"
      },
      "outputs": [],
      "source": [
        ""
      ]
    }
  ],
  "metadata": {
    "accelerator": "GPU",
    "colab": {
      "collapsed_sections": [],
      "name": "0.4 layer 4 fix.ipynb",
      "provenance": []
    },
    "kernelspec": {
      "display_name": "Python 3",
      "name": "python3"
    }
  },
  "nbformat": 4,
  "nbformat_minor": 0
}