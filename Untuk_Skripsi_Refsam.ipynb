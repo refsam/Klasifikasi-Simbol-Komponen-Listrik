{
  "nbformat": 4,
  "nbformat_minor": 0,
  "metadata": {
    "accelerator": "GPU",
    "colab": {
      "name": "Untuk_Skripsi_Refsam.ipynb",
      "provenance": [],
      "collapsed_sections": []
    },
    "kernelspec": {
      "display_name": "Python 3",
      "name": "python3"
    }
  },
  "cells": [
    {
      "cell_type": "code",
      "metadata": {
        "colab": {
          "base_uri": "https://localhost:8080/"
        },
        "id": "mDqEdUKnBtgl",
        "outputId": "24cb07a9-5f67-4017-c053-6dd996542c24"
      },
      "source": [
        "import tensorflow as tf\n",
        "from tensorflow.keras.preprocessing.image import ImageDataGenerator\n",
        "from sklearn.model_selection import train_test_split\n",
        "import os\n",
        "print(tf.__version__)"
      ],
      "execution_count": null,
      "outputs": [
        {
          "output_type": "stream",
          "name": "stdout",
          "text": [
            "2.6.0\n"
          ]
        }
      ]
    },
    {
      "cell_type": "code",
      "metadata": {
        "id": "mn1V23X6ukud"
      },
      "source": [
        "# ekstrasi file zip datasets\n",
        "import zipfile\n",
        "local_zip = 'dataset.zip'\n",
        "zip_ref = zipfile.ZipFile(local_zip,'r')\n",
        "zip_ref.extractall('/tmp/dataset')\n",
        "zip_ref.close()"
      ],
      "execution_count": null,
      "outputs": []
    },
    {
      "cell_type": "code",
      "metadata": {
        "id": "6vgNySAUuk4v"
      },
      "source": [
        "# membuat image generator (generate dataset untuk memperbanyak dataset)\n",
        "dir = '/tmp/dataset'\n",
        "train_datagen = ImageDataGenerator(\n",
        "    \n",
        "    rescale = 1./225,\n",
        "    rotation_range = 20,\n",
        "    horizontal_flip = True,\n",
        "    fill_mode = 'nearest',\n",
        "    validation_split=0.2)"
      ],
      "execution_count": null,
      "outputs": []
    },
    {
      "cell_type": "code",
      "metadata": {
        "colab": {
          "base_uri": "https://localhost:8080/"
        },
        "id": "NlOu5jI1xT7m",
        "outputId": "d52faf93-2134-4616-c831-79721a00f5e4"
      },
      "source": [
        "#generate data gambar menjadi hitam putih dan ukuran 224 x 224\n",
        "train_generator = train_datagen.flow_from_directory(\n",
        "    dir,\n",
        "    color_mode=\"grayscale\",\n",
        "    target_size =(224,224),\n",
        "    batch_size =10,\n",
        "    class_mode = 'categorical',\n",
        "    shuffle = True,\n",
        "    subset='training',\n",
        "\n",
        ")\n",
        "\n",
        "validation_generator = train_datagen.flow_from_directory(\n",
        "    dir,\n",
        "    color_mode=\"grayscale\",\n",
        "    target_size = (224,224),\n",
        "    batch_size = 10,\n",
        "    class_mode = 'categorical',\n",
        "    shuffle = False,\n",
        "    subset='validation',\n",
        "\n",
        ")"
      ],
      "execution_count": null,
      "outputs": [
        {
          "output_type": "stream",
          "name": "stdout",
          "text": [
            "Found 680 images belonging to 17 classes.\n",
            "Found 170 images belonging to 17 classes.\n"
          ]
        }
      ]
    },
    {
      "cell_type": "code",
      "metadata": {
        "id": "K3gxaeZTXylN"
      },
      "source": [
        "X_test = []\n",
        "y_test = []\n",
        "labels = ['1. d', '2. df', '3. dl','4. ds', '5. dt', '6. dv', '7. dz', '8. cf', '9. ct', '10. cv','11. if','12. iv','13. rf','14. ldr','15. p','16. rh','17. th']"
      ],
      "execution_count": null,
      "outputs": []
    },
    {
      "cell_type": "code",
      "metadata": {
        "colab": {
          "base_uri": "https://localhost:8080/"
        },
        "id": "wpun5AFOYBIk",
        "outputId": "a320dc35-382b-42be-91ae-cbd20b7919cd"
      },
      "source": [
        "print (train_generator.class_indices)\n",
        "labels_txt = '\\n'.join(sorted(train_generator.class_indices.keys()))\n",
        "with open('labels.txt', 'w') as f:\n",
        "  f.write(labels_txt)"
      ],
      "execution_count": null,
      "outputs": [
        {
          "output_type": "stream",
          "name": "stdout",
          "text": [
            "{'1. d': 0, '10. cv': 1, '11. if': 2, '12. iv': 3, '13. rf': 4, '14. ldr': 5, '15. p': 6, '16. rh': 7, '17. th': 8, '2. df': 9, '3. dl': 10, '4. ds': 11, '5. dt': 12, '6. dv': 13, '7. dz': 14, '8. cf': 15, '9. ct': 16}\n"
          ]
        }
      ]
    },
    {
      "cell_type": "code",
      "metadata": {
        "colab": {
          "base_uri": "https://localhost:8080/"
        },
        "id": "5wH21ntWZcUL",
        "outputId": "c519e0b3-3ee4-4a34-b96d-747b4f4288ff"
      },
      "source": [
        "!cat labels.txt"
      ],
      "execution_count": null,
      "outputs": [
        {
          "output_type": "stream",
          "name": "stdout",
          "text": [
            "1. d\n",
            "10. cv\n",
            "11. if\n",
            "12. iv\n",
            "13. rf\n",
            "14. ldr\n",
            "15. p\n",
            "16. rh\n",
            "17. th\n",
            "2. df\n",
            "3. dl\n",
            "4. ds\n",
            "5. dt\n",
            "6. dv\n",
            "7. dz\n",
            "8. cf\n",
            "9. ct"
          ]
        }
      ]
    },
    {
      "cell_type": "code",
      "metadata": {
        "colab": {
          "base_uri": "https://localhost:8080/"
        },
        "id": "55zEXM28xV-M",
        "outputId": "83497610-6bc7-4349-e8ed-02c535d76717"
      },
      "source": [
        "#Arsitektur CNN\n",
        "model = tf.keras.models.Sequential([\n",
        "    tf.keras.layers.Conv2D(64, (3,3), activation='relu', input_shape=(224, 224, 1)),\n",
        "    tf.keras.layers.MaxPooling2D((2,2), padding = 'valid'),\n",
        "    tf.keras.layers.Conv2D(64, (3,3), activation='relu'),\n",
        "    tf.keras.layers.MaxPooling2D((2,2), padding = 'valid'),\n",
        "    tf.keras.layers.Conv2D(64, (3,3), activation='relu'),\n",
        "    tf.keras.layers.MaxPooling2D((2,2), padding = 'valid'),\n",
        "    tf.keras.layers.Conv2D(64, (3,3), activation='relu'),\n",
        "    tf.keras.layers.MaxPooling2D((2,2), padding = 'valid'),\n",
        "    tf.keras.layers.Flatten(),\n",
        "    tf.keras.layers.Dense(128, activation ='relu'),\n",
        "    tf.keras.layers.Dense(17, activation='softmax')\n",
        "])\n",
        "model.summary()"
      ],
      "execution_count": null,
      "outputs": [
        {
          "output_type": "stream",
          "name": "stdout",
          "text": [
            "Model: \"sequential\"\n",
            "_________________________________________________________________\n",
            "Layer (type)                 Output Shape              Param #   \n",
            "=================================================================\n",
            "conv2d (Conv2D)              (None, 222, 222, 64)      640       \n",
            "_________________________________________________________________\n",
            "max_pooling2d (MaxPooling2D) (None, 111, 111, 64)      0         \n",
            "_________________________________________________________________\n",
            "conv2d_1 (Conv2D)            (None, 109, 109, 64)      36928     \n",
            "_________________________________________________________________\n",
            "max_pooling2d_1 (MaxPooling2 (None, 54, 54, 64)        0         \n",
            "_________________________________________________________________\n",
            "conv2d_2 (Conv2D)            (None, 52, 52, 64)        36928     \n",
            "_________________________________________________________________\n",
            "max_pooling2d_2 (MaxPooling2 (None, 26, 26, 64)        0         \n",
            "_________________________________________________________________\n",
            "conv2d_3 (Conv2D)            (None, 24, 24, 64)        36928     \n",
            "_________________________________________________________________\n",
            "max_pooling2d_3 (MaxPooling2 (None, 12, 12, 64)        0         \n",
            "_________________________________________________________________\n",
            "flatten (Flatten)            (None, 9216)              0         \n",
            "_________________________________________________________________\n",
            "dense (Dense)                (None, 128)               1179776   \n",
            "_________________________________________________________________\n",
            "dense_1 (Dense)              (None, 17)                2193      \n",
            "=================================================================\n",
            "Total params: 1,293,393\n",
            "Trainable params: 1,293,393\n",
            "Non-trainable params: 0\n",
            "_________________________________________________________________\n"
          ]
        }
      ]
    },
    {
      "cell_type": "code",
      "metadata": {
        "id": "KhsLJ-BZxank"
      },
      "source": [
        "model.compile(loss = 'categorical_crossentropy',\n",
        "              optimizer = tf.optimizers.Adam(),\n",
        "              metrics=['accuracy'])"
      ],
      "execution_count": null,
      "outputs": []
    },
    {
      "cell_type": "code",
      "metadata": {
        "colab": {
          "base_uri": "https://localhost:8080/"
        },
        "id": "iBxPAVIpxap0",
        "outputId": "ebb34470-5370-4397-eb84-674e5841dfd5"
      },
      "source": [
        "history = model.fit(\n",
        "    train_generator,\n",
        "    epochs = 100,\n",
        "    validation_data = validation_generator,\n",
        "    verbose =2\n",
        ")"
      ],
      "execution_count": null,
      "outputs": [
        {
          "output_type": "stream",
          "name": "stdout",
          "text": [
            "Epoch 1/100\n",
            "68/68 - 38s - loss: 2.8447 - accuracy: 0.0426 - val_loss: 2.8330 - val_accuracy: 0.0471\n",
            "Epoch 2/100\n",
            "68/68 - 7s - loss: 2.6833 - accuracy: 0.1324 - val_loss: 2.2111 - val_accuracy: 0.3000\n",
            "Epoch 3/100\n",
            "68/68 - 7s - loss: 1.8430 - accuracy: 0.3603 - val_loss: 1.7977 - val_accuracy: 0.3647\n",
            "Epoch 4/100\n",
            "68/68 - 7s - loss: 1.4185 - accuracy: 0.4603 - val_loss: 1.5473 - val_accuracy: 0.4353\n",
            "Epoch 5/100\n",
            "68/68 - 7s - loss: 1.1459 - accuracy: 0.5485 - val_loss: 1.4339 - val_accuracy: 0.4706\n",
            "Epoch 6/100\n",
            "68/68 - 7s - loss: 0.9683 - accuracy: 0.6235 - val_loss: 1.3790 - val_accuracy: 0.5235\n",
            "Epoch 7/100\n",
            "68/68 - 7s - loss: 0.9083 - accuracy: 0.6588 - val_loss: 1.1945 - val_accuracy: 0.5706\n",
            "Epoch 8/100\n",
            "68/68 - 7s - loss: 0.8420 - accuracy: 0.6794 - val_loss: 1.2130 - val_accuracy: 0.5529\n",
            "Epoch 9/100\n",
            "68/68 - 8s - loss: 0.6704 - accuracy: 0.7441 - val_loss: 1.1969 - val_accuracy: 0.5706\n",
            "Epoch 10/100\n",
            "68/68 - 8s - loss: 0.6483 - accuracy: 0.7618 - val_loss: 1.0807 - val_accuracy: 0.5882\n",
            "Epoch 11/100\n",
            "68/68 - 7s - loss: 0.5526 - accuracy: 0.7912 - val_loss: 1.0529 - val_accuracy: 0.6118\n",
            "Epoch 12/100\n",
            "68/68 - 8s - loss: 0.5573 - accuracy: 0.8029 - val_loss: 1.0202 - val_accuracy: 0.6412\n",
            "Epoch 13/100\n",
            "68/68 - 8s - loss: 0.5178 - accuracy: 0.8250 - val_loss: 0.8962 - val_accuracy: 0.7000\n",
            "Epoch 14/100\n",
            "68/68 - 8s - loss: 0.4173 - accuracy: 0.8456 - val_loss: 1.0021 - val_accuracy: 0.6941\n",
            "Epoch 15/100\n",
            "68/68 - 7s - loss: 0.3548 - accuracy: 0.8750 - val_loss: 1.0195 - val_accuracy: 0.7353\n",
            "Epoch 16/100\n",
            "68/68 - 7s - loss: 0.3702 - accuracy: 0.8647 - val_loss: 0.9601 - val_accuracy: 0.7588\n",
            "Epoch 17/100\n",
            "68/68 - 7s - loss: 0.3052 - accuracy: 0.9074 - val_loss: 0.9344 - val_accuracy: 0.7000\n",
            "Epoch 18/100\n",
            "68/68 - 7s - loss: 0.2431 - accuracy: 0.9176 - val_loss: 1.0091 - val_accuracy: 0.7176\n",
            "Epoch 19/100\n",
            "68/68 - 7s - loss: 0.2763 - accuracy: 0.9132 - val_loss: 0.8754 - val_accuracy: 0.7294\n",
            "Epoch 20/100\n",
            "68/68 - 7s - loss: 0.2503 - accuracy: 0.9118 - val_loss: 0.9472 - val_accuracy: 0.7471\n",
            "Epoch 21/100\n",
            "68/68 - 7s - loss: 0.2347 - accuracy: 0.9176 - val_loss: 0.9259 - val_accuracy: 0.7706\n",
            "Epoch 22/100\n",
            "68/68 - 7s - loss: 0.2354 - accuracy: 0.9088 - val_loss: 1.1968 - val_accuracy: 0.7235\n",
            "Epoch 23/100\n",
            "68/68 - 8s - loss: 0.2532 - accuracy: 0.9103 - val_loss: 0.9577 - val_accuracy: 0.7765\n",
            "Epoch 24/100\n",
            "68/68 - 7s - loss: 0.2092 - accuracy: 0.9250 - val_loss: 0.9247 - val_accuracy: 0.7882\n",
            "Epoch 25/100\n",
            "68/68 - 8s - loss: 0.1783 - accuracy: 0.9294 - val_loss: 0.7793 - val_accuracy: 0.8235\n",
            "Epoch 26/100\n",
            "68/68 - 8s - loss: 0.1350 - accuracy: 0.9544 - val_loss: 1.4463 - val_accuracy: 0.7353\n",
            "Epoch 27/100\n",
            "68/68 - 8s - loss: 0.2306 - accuracy: 0.9221 - val_loss: 0.8966 - val_accuracy: 0.7882\n",
            "Epoch 28/100\n",
            "68/68 - 7s - loss: 0.1073 - accuracy: 0.9706 - val_loss: 0.9504 - val_accuracy: 0.8059\n",
            "Epoch 29/100\n",
            "68/68 - 8s - loss: 0.1650 - accuracy: 0.9500 - val_loss: 0.7316 - val_accuracy: 0.7941\n",
            "Epoch 30/100\n",
            "68/68 - 7s - loss: 0.1426 - accuracy: 0.9500 - val_loss: 0.7666 - val_accuracy: 0.8000\n",
            "Epoch 31/100\n",
            "68/68 - 8s - loss: 0.1100 - accuracy: 0.9662 - val_loss: 1.1072 - val_accuracy: 0.7941\n",
            "Epoch 32/100\n",
            "68/68 - 8s - loss: 0.1401 - accuracy: 0.9647 - val_loss: 0.7775 - val_accuracy: 0.8235\n",
            "Epoch 33/100\n",
            "68/68 - 8s - loss: 0.0777 - accuracy: 0.9750 - val_loss: 0.9457 - val_accuracy: 0.8000\n",
            "Epoch 34/100\n",
            "68/68 - 8s - loss: 0.1229 - accuracy: 0.9544 - val_loss: 0.8840 - val_accuracy: 0.7824\n",
            "Epoch 35/100\n",
            "68/68 - 9s - loss: 0.1116 - accuracy: 0.9603 - val_loss: 0.9413 - val_accuracy: 0.8000\n",
            "Epoch 36/100\n",
            "68/68 - 8s - loss: 0.0993 - accuracy: 0.9676 - val_loss: 0.9955 - val_accuracy: 0.8000\n",
            "Epoch 37/100\n",
            "68/68 - 8s - loss: 0.1323 - accuracy: 0.9618 - val_loss: 0.9580 - val_accuracy: 0.7765\n",
            "Epoch 38/100\n",
            "68/68 - 8s - loss: 0.0915 - accuracy: 0.9691 - val_loss: 0.7810 - val_accuracy: 0.8059\n",
            "Epoch 39/100\n",
            "68/68 - 8s - loss: 0.1152 - accuracy: 0.9706 - val_loss: 0.8334 - val_accuracy: 0.8176\n",
            "Epoch 40/100\n",
            "68/68 - 8s - loss: 0.1239 - accuracy: 0.9662 - val_loss: 0.7032 - val_accuracy: 0.8294\n",
            "Epoch 41/100\n",
            "68/68 - 8s - loss: 0.0886 - accuracy: 0.9779 - val_loss: 0.9839 - val_accuracy: 0.8412\n",
            "Epoch 42/100\n",
            "68/68 - 7s - loss: 0.0846 - accuracy: 0.9765 - val_loss: 0.8521 - val_accuracy: 0.8235\n",
            "Epoch 43/100\n",
            "68/68 - 7s - loss: 0.0995 - accuracy: 0.9706 - val_loss: 1.0506 - val_accuracy: 0.7941\n",
            "Epoch 44/100\n",
            "68/68 - 7s - loss: 0.0574 - accuracy: 0.9882 - val_loss: 0.8581 - val_accuracy: 0.8353\n",
            "Epoch 45/100\n",
            "68/68 - 7s - loss: 0.0340 - accuracy: 0.9912 - val_loss: 0.9150 - val_accuracy: 0.8412\n",
            "Epoch 46/100\n",
            "68/68 - 7s - loss: 0.0368 - accuracy: 0.9853 - val_loss: 0.7802 - val_accuracy: 0.8412\n",
            "Epoch 47/100\n",
            "68/68 - 8s - loss: 0.0804 - accuracy: 0.9765 - val_loss: 1.1884 - val_accuracy: 0.8176\n",
            "Epoch 48/100\n",
            "68/68 - 7s - loss: 0.1647 - accuracy: 0.9471 - val_loss: 0.7976 - val_accuracy: 0.8118\n",
            "Epoch 49/100\n",
            "68/68 - 7s - loss: 0.0421 - accuracy: 0.9882 - val_loss: 1.1220 - val_accuracy: 0.8059\n",
            "Epoch 50/100\n",
            "68/68 - 7s - loss: 0.0408 - accuracy: 0.9838 - val_loss: 1.1931 - val_accuracy: 0.8118\n",
            "Epoch 51/100\n",
            "68/68 - 7s - loss: 0.0817 - accuracy: 0.9735 - val_loss: 0.9750 - val_accuracy: 0.8353\n",
            "Epoch 52/100\n",
            "68/68 - 7s - loss: 0.0569 - accuracy: 0.9824 - val_loss: 0.8163 - val_accuracy: 0.8353\n",
            "Epoch 53/100\n",
            "68/68 - 7s - loss: 0.0667 - accuracy: 0.9779 - val_loss: 0.9466 - val_accuracy: 0.8412\n",
            "Epoch 54/100\n",
            "68/68 - 7s - loss: 0.0661 - accuracy: 0.9824 - val_loss: 0.8142 - val_accuracy: 0.8471\n",
            "Epoch 55/100\n",
            "68/68 - 7s - loss: 0.0342 - accuracy: 0.9882 - val_loss: 0.9105 - val_accuracy: 0.8294\n",
            "Epoch 56/100\n",
            "68/68 - 7s - loss: 0.0709 - accuracy: 0.9794 - val_loss: 0.8975 - val_accuracy: 0.8353\n",
            "Epoch 57/100\n",
            "68/68 - 7s - loss: 0.0443 - accuracy: 0.9868 - val_loss: 1.0348 - val_accuracy: 0.8353\n",
            "Epoch 58/100\n",
            "68/68 - 7s - loss: 0.1012 - accuracy: 0.9779 - val_loss: 0.8115 - val_accuracy: 0.8765\n",
            "Epoch 59/100\n",
            "68/68 - 7s - loss: 0.0878 - accuracy: 0.9794 - val_loss: 0.6555 - val_accuracy: 0.8471\n",
            "Epoch 60/100\n",
            "68/68 - 7s - loss: 0.0302 - accuracy: 0.9926 - val_loss: 0.9932 - val_accuracy: 0.8412\n",
            "Epoch 61/100\n",
            "68/68 - 7s - loss: 0.0599 - accuracy: 0.9853 - val_loss: 0.9589 - val_accuracy: 0.8529\n",
            "Epoch 62/100\n",
            "68/68 - 7s - loss: 0.1196 - accuracy: 0.9750 - val_loss: 0.9883 - val_accuracy: 0.8059\n",
            "Epoch 63/100\n",
            "68/68 - 7s - loss: 0.0916 - accuracy: 0.9794 - val_loss: 0.7605 - val_accuracy: 0.8765\n",
            "Epoch 64/100\n",
            "68/68 - 8s - loss: 0.0808 - accuracy: 0.9853 - val_loss: 0.6977 - val_accuracy: 0.8353\n",
            "Epoch 65/100\n",
            "68/68 - 7s - loss: 0.0343 - accuracy: 0.9853 - val_loss: 0.5998 - val_accuracy: 0.8824\n",
            "Epoch 66/100\n",
            "68/68 - 7s - loss: 0.0396 - accuracy: 0.9912 - val_loss: 1.1458 - val_accuracy: 0.8412\n",
            "Epoch 67/100\n",
            "68/68 - 7s - loss: 0.0578 - accuracy: 0.9765 - val_loss: 1.1979 - val_accuracy: 0.8294\n",
            "Epoch 68/100\n",
            "68/68 - 7s - loss: 0.0525 - accuracy: 0.9794 - val_loss: 1.2167 - val_accuracy: 0.8059\n",
            "Epoch 69/100\n",
            "68/68 - 7s - loss: 0.0479 - accuracy: 0.9853 - val_loss: 0.9228 - val_accuracy: 0.8765\n",
            "Epoch 70/100\n",
            "68/68 - 7s - loss: 0.0441 - accuracy: 0.9926 - val_loss: 1.5092 - val_accuracy: 0.8529\n",
            "Epoch 71/100\n",
            "68/68 - 7s - loss: 0.0287 - accuracy: 0.9897 - val_loss: 1.0412 - val_accuracy: 0.8529\n",
            "Epoch 72/100\n",
            "68/68 - 7s - loss: 0.0494 - accuracy: 0.9868 - val_loss: 1.1769 - val_accuracy: 0.8647\n",
            "Epoch 73/100\n",
            "68/68 - 7s - loss: 0.0582 - accuracy: 0.9824 - val_loss: 0.7695 - val_accuracy: 0.8471\n",
            "Epoch 74/100\n",
            "68/68 - 7s - loss: 0.0848 - accuracy: 0.9735 - val_loss: 1.5279 - val_accuracy: 0.7882\n",
            "Epoch 75/100\n",
            "68/68 - 7s - loss: 0.0831 - accuracy: 0.9662 - val_loss: 0.7966 - val_accuracy: 0.8176\n",
            "Epoch 76/100\n",
            "68/68 - 7s - loss: 0.0763 - accuracy: 0.9824 - val_loss: 0.9386 - val_accuracy: 0.8294\n",
            "Epoch 77/100\n",
            "68/68 - 7s - loss: 0.0340 - accuracy: 0.9897 - val_loss: 1.0960 - val_accuracy: 0.8059\n",
            "Epoch 78/100\n",
            "68/68 - 7s - loss: 0.0628 - accuracy: 0.9824 - val_loss: 0.9616 - val_accuracy: 0.8235\n",
            "Epoch 79/100\n",
            "68/68 - 7s - loss: 0.0324 - accuracy: 0.9897 - val_loss: 1.0190 - val_accuracy: 0.8353\n",
            "Epoch 80/100\n",
            "68/68 - 7s - loss: 0.0305 - accuracy: 0.9882 - val_loss: 1.1477 - val_accuracy: 0.8588\n",
            "Epoch 81/100\n",
            "68/68 - 8s - loss: 0.0377 - accuracy: 0.9897 - val_loss: 1.0352 - val_accuracy: 0.8471\n",
            "Epoch 82/100\n",
            "68/68 - 7s - loss: 0.0797 - accuracy: 0.9824 - val_loss: 0.6988 - val_accuracy: 0.8294\n",
            "Epoch 83/100\n",
            "68/68 - 7s - loss: 0.0570 - accuracy: 0.9824 - val_loss: 0.6810 - val_accuracy: 0.8529\n",
            "Epoch 84/100\n",
            "68/68 - 7s - loss: 0.0335 - accuracy: 0.9882 - val_loss: 0.8823 - val_accuracy: 0.8471\n",
            "Epoch 85/100\n",
            "68/68 - 7s - loss: 0.0268 - accuracy: 0.9926 - val_loss: 1.1311 - val_accuracy: 0.8059\n",
            "Epoch 86/100\n",
            "68/68 - 7s - loss: 0.0129 - accuracy: 0.9971 - val_loss: 0.8308 - val_accuracy: 0.8765\n",
            "Epoch 87/100\n",
            "68/68 - 7s - loss: 0.0076 - accuracy: 0.9971 - val_loss: 0.9784 - val_accuracy: 0.8765\n",
            "Epoch 88/100\n",
            "68/68 - 7s - loss: 0.0029 - accuracy: 1.0000 - val_loss: 0.6755 - val_accuracy: 0.8882\n",
            "Epoch 89/100\n",
            "68/68 - 7s - loss: 0.0043 - accuracy: 0.9985 - val_loss: 1.0261 - val_accuracy: 0.8706\n",
            "Epoch 90/100\n",
            "68/68 - 7s - loss: 0.0095 - accuracy: 0.9971 - val_loss: 1.1025 - val_accuracy: 0.8529\n",
            "Epoch 91/100\n",
            "68/68 - 7s - loss: 0.0052 - accuracy: 0.9985 - val_loss: 1.4720 - val_accuracy: 0.8529\n",
            "Epoch 92/100\n",
            "68/68 - 7s - loss: 0.0043 - accuracy: 0.9985 - val_loss: 1.1771 - val_accuracy: 0.8529\n",
            "Epoch 93/100\n",
            "68/68 - 7s - loss: 0.0452 - accuracy: 0.9882 - val_loss: 1.1823 - val_accuracy: 0.8471\n",
            "Epoch 94/100\n",
            "68/68 - 8s - loss: 0.0519 - accuracy: 0.9868 - val_loss: 1.0706 - val_accuracy: 0.8235\n",
            "Epoch 95/100\n",
            "68/68 - 7s - loss: 0.0434 - accuracy: 0.9853 - val_loss: 1.3059 - val_accuracy: 0.8235\n",
            "Epoch 96/100\n",
            "68/68 - 7s - loss: 0.0276 - accuracy: 0.9897 - val_loss: 1.3088 - val_accuracy: 0.8235\n",
            "Epoch 97/100\n",
            "68/68 - 7s - loss: 0.0453 - accuracy: 0.9824 - val_loss: 0.9395 - val_accuracy: 0.8235\n",
            "Epoch 98/100\n",
            "68/68 - 7s - loss: 0.0338 - accuracy: 0.9882 - val_loss: 1.2884 - val_accuracy: 0.8471\n",
            "Epoch 99/100\n",
            "68/68 - 7s - loss: 0.1196 - accuracy: 0.9691 - val_loss: 1.0681 - val_accuracy: 0.8000\n",
            "Epoch 100/100\n",
            "68/68 - 7s - loss: 0.0434 - accuracy: 0.9824 - val_loss: 0.8510 - val_accuracy: 0.8706\n"
          ]
        }
      ]
    },
    {
      "cell_type": "code",
      "metadata": {
        "colab": {
          "base_uri": "https://localhost:8080/",
          "height": 573
        },
        "id": "RsZMA6TaV5UT",
        "outputId": "841b80b2-8f3b-406d-881f-b069cecd5a04"
      },
      "source": [
        "# visualisasi data akurasi dan loss\n",
        "import numpy as np\n",
        "from google.colab import files\n",
        "from keras.preprocessing import image\n",
        "import matplotlib.pyplot as plt\n",
        "import matplotlib.image as mpimg\n",
        "import matplotlib.pyplot as plt\n",
        "import matplotlib.image as mpimg\n",
        "%matplotlib inline\n",
        " \n",
        "plt.plot(history.history['accuracy'])\n",
        "plt.plot(history.history['val_accuracy'])\n",
        "plt.title('akurasi model')\n",
        "plt.ylabel('akurasi')\n",
        "plt.xlabel('epoch')\n",
        "plt.legend(['train','test'], loc='lower right')\n",
        "plt.show()\n",
        "\n",
        "plt.plot(history.history['loss'])\n",
        "plt.plot(history.history['val_loss'])\n",
        "plt.title('loss model')\n",
        "plt.ylabel('loss')\n",
        "plt.xlabel('epoch')\n",
        "plt.legend(['train','test'], loc='upper right')\n",
        "plt.show()"
      ],
      "execution_count": null,
      "outputs": [
        {
          "output_type": "display_data",
          "data": {
            "image/png": "[encoded data removed]",
            "text/plain": [
              "<Figure size 432x288 with 1 Axes>"
            ]
          },
          "metadata": {
            "needs_background": "light"
          }
        },
        {
          "output_type": "display_data",
          "data": {
            "image/png": "[encoded data removed]",
            "text/plain": [
              "<Figure size 432x288 with 1 Axes>"
            ]
          },
          "metadata": {
            "needs_background": "light"
          }
        }
      ]
    },
    {
      "cell_type": "code",
      "metadata": {
        "id": "PC1gtFNCeI0q"
      },
      "source": [
        "predictions = model.predict(validation_generator)"
      ],
      "execution_count": null,
      "outputs": []
    },
    {
      "cell_type": "code",
      "metadata": {
        "id": "lgO6YL7ZeMYY"
      },
      "source": [
        "import numpy as np\n",
        "y_pred = np.argmax(predictions, axis=1)"
      ],
      "execution_count": null,
      "outputs": []
    },
    {
      "cell_type": "code",
      "metadata": {
        "colab": {
          "base_uri": "https://localhost:8080/"
        },
        "id": "kCl0r6NYeM11",
        "outputId": "174b42c0-b361-4be3-f1b1-cc628da9b7af"
      },
      "source": [
        "print(y_pred.shape, predictions.shape)"
      ],
      "execution_count": null,
      "outputs": [
        {
          "output_type": "stream",
          "name": "stdout",
          "text": [
            "(170,) (170, 17)\n"
          ]
        }
      ]
    },
    {
      "cell_type": "code",
      "metadata": {
        "colab": {
          "base_uri": "https://localhost:8080/"
        },
        "id": "ZisWPs86eM5B",
        "outputId": "7464942b-909d-4ea7-c580-bb6247628744"
      },
      "source": [
        "y_true = validation_generator.classes\n",
        "print(y_true[:5], y_pred[:5])"
      ],
      "execution_count": null,
      "outputs": [
        {
          "output_type": "stream",
          "name": "stdout",
          "text": [
            "[0 0 0 0 0] [0 0 0 4 0]\n"
          ]
        }
      ]
    },
    {
      "cell_type": "code",
      "metadata": {
        "id": "7TMrya0XeP1p",
        "colab": {
          "base_uri": "https://localhost:8080/",
          "height": 287
        },
        "outputId": "e9be7528-050d-4830-ae74-2d83b69e7fa7"
      },
      "source": [
        "from sklearn.metrics import confusion_matrix\n",
        "cfm = confusion_matrix(y_true, y_pred)\n",
        "import seaborn as sns\n",
        "sns.heatmap(cfm, annot=True)"
      ],
      "execution_count": null,
      "outputs": [
        {
          "output_type": "execute_result",
          "data": {
            "text/plain": [
              "<matplotlib.axes._subplots.AxesSubplot at 0x7f871723b350>"
            ]
          },
          "metadata": {},
          "execution_count": 36
        },
        {
          "output_type": "display_data",
          "data": {
            "image/png": "[encoded data removed]",
            "text/plain": [
              "<Figure size 432x288 with 2 Axes>"
            ]
          },
          "metadata": {
            "needs_background": "light"
          }
        }
      ]
    },
    {
      "cell_type": "code",
      "metadata": {
        "id": "gO79CfHVV5h6"
      },
      "source": [
        "saved_model_dir = 'save/model'\n",
        "tf.saved_model.save(model, saved_model_dir)"
      ],
      "execution_count": null,
      "outputs": []
    },
    {
      "cell_type": "code",
      "metadata": {
        "id": "zS7Sn9VwNz31"
      },
      "source": [
        "converter = tf.lite.TFLiteConverter.from_saved_model(saved_model_dir)\n",
        "tflite_model = converter.convert()"
      ],
      "execution_count": null,
      "outputs": []
    },
    {
      "cell_type": "code",
      "metadata": {
        "id": "2ejh0KJEyw9z"
      },
      "source": [
        "with open('model_unquant.tflite', 'wb') as f:\n",
        "  f.write(tflite_model)"
      ],
      "execution_count": null,
      "outputs": []
    },
    {
      "cell_type": "code",
      "metadata": {
        "colab": {
          "base_uri": "https://localhost:8080/"
        },
        "id": "I_L5jnBsyxCA",
        "outputId": "98031fad-62b3-4216-85d8-82f32c0ba12b"
      },
      "source": [
        "converter = tf.lite.TFLiteConverter.from_saved_model(saved_model_dir)\n",
        "converter.optimizations = [tf.lite.Optimize.OPTIMIZE_FOR_SIZE]\n",
        "tflite_quant_model = converter.convert()"
      ],
      "execution_count": null,
      "outputs": [
        {
          "output_type": "stream",
          "name": "stderr",
          "text": [
            "WARNING:absl:Optimization option OPTIMIZE_FOR_SIZE is deprecated, please use optimizations=[Optimize.DEFAULT] instead.\n",
            "WARNING:absl:Optimization option OPTIMIZE_FOR_SIZE is deprecated, please use optimizations=[Optimize.DEFAULT] instead.\n",
            "WARNING:absl:Optimization option OPTIMIZE_FOR_SIZE is deprecated, please use optimizations=[Optimize.DEFAULT] instead.\n"
          ]
        }
      ]
    },
    {
      "cell_type": "code",
      "metadata": {
        "id": "Uid57xmpyxKf"
      },
      "source": [
        "with open('model_quant.tflite', 'wb') as f:\n",
        "  f.write(tflite_model)"
      ],
      "execution_count": null,
      "outputs": []
    },
    {
      "cell_type": "code",
      "metadata": {
        "id": "z-r-5MOBaBF5"
      },
      "source": [
        ""
      ],
      "execution_count": null,
      "outputs": []
    }
  ]
}